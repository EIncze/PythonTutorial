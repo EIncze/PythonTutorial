{
 "cells": [
  {
   "cell_type": "markdown",
   "id": "d139b460",
   "metadata": {},
   "source": [
    "# Basics of Python with Jupyter Notebook"
   ]
  },
  {
   "cell_type": "markdown",
   "id": "1d43a308",
   "metadata": {},
   "source": [
    "Author: Eduard Incze\n",
    "\n",
    "Date: 27/10/2021\n",
    "\n",
    "## 1. Introduction\n",
    "Python is an easy to use but powerful programming language. Over the years, it has gained popularity in the data science crowd leading to many specialised tools being developed in Python. While this tutorial will attempt to cover the basics, many concepts will inevitably have to be left out. A great place to learn more is [the official tutorial](https://docs.python.org/3/tutorial/index.html).\n",
    "\n",
    "Jupyter Notebooks are hybrid documents that can contain code, outputs, and narrative, organised in cells. They have become almost synonymous with data science, particularly as teaching materials, due to their ability to weave code with immediate outputs and explanations written in markdown. \n",
    "Outputs can be printouts or plots, and each cell's outputs display immediately underneath it. Plots can even be made interactive, with the right libraries.\n",
    "\n",
    "**Note** that by default, outputs are stored in the Notebook so whoever has access to the file can also see these outputs unless they are cleared before sending.\n",
    "\n",
    "For a more in-depth look at all the things that Jupyter Notebooks can do, there is no better place to start than the [official documentation](https://mybinder.org/v2/gh/ipython/ipython-in-depth/HEAD?urlpath=tree/binder/Index.ipynb).\n",
    "\n",
    "With all that said, let's begin!\n",
    "\n",
    "---\n",
    "\n",
    "\n",
    "## 2. First steps"
   ]
  },
  {
   "cell_type": "markdown",
   "id": "0bb4d1be",
   "metadata": {},
   "source": [
    " ### 2.1 The `print()` function"
   ]
  },
  {
   "cell_type": "markdown",
   "id": "c4dbf362",
   "metadata": {},
   "source": [
    "One of the most used functions in Python is `print()`. Its simplest use is to display a message."
   ]
  },
  {
   "cell_type": "code",
   "execution_count": 33,
   "id": "6ba204c8",
   "metadata": {},
   "outputs": [
    {
     "name": "stdout",
     "output_type": "stream",
     "text": [
      "Hello world\n"
     ]
    }
   ],
   "source": [
    "print('Hello world')"
   ]
  },
  {
   "cell_type": "markdown",
   "id": "974eca5f",
   "metadata": {},
   "source": [
    "In Python, free text (such as 'Hello world' above) must be surrounded by quotation marks (\"text\") or apostrophes ('text'). Either method is valid, as long as it's consistent. This is known as a *string*."
   ]
  },
  {
   "cell_type": "markdown",
   "id": "ccc96231",
   "metadata": {},
   "source": [
    "`print()` can have multiple comma-separated *arguments*, which are by default separated by a space."
   ]
  },
  {
   "cell_type": "code",
   "execution_count": 43,
   "id": "922a0dae",
   "metadata": {},
   "outputs": [
    {
     "name": "stdout",
     "output_type": "stream",
     "text": [
      "Hello World\n"
     ]
    }
   ],
   "source": [
    "print(\"Hello\", 'World')"
   ]
  },
  {
   "cell_type": "markdown",
   "id": "c42b58c3",
   "metadata": {},
   "source": [
    "Notice in the example above that the two strings had different string-markers surrounding them. This had no effect on the output."
   ]
  },
  {
   "cell_type": "markdown",
   "id": "f2ff605f",
   "metadata": {},
   "source": [
    "### 2.2 Variables\n",
    "\n",
    "Variables can be assigned using the `variable = value` syntax."
   ]
  },
  {
   "cell_type": "code",
   "execution_count": 35,
   "id": "f9a26f30",
   "metadata": {},
   "outputs": [],
   "source": [
    "total = 1 + 1"
   ]
  },
  {
   "cell_type": "markdown",
   "id": "449c0a73",
   "metadata": {},
   "source": [
    "The value of a variable can be printed using the `print()` function..."
   ]
  },
  {
   "cell_type": "code",
   "execution_count": 55,
   "id": "06a25994",
   "metadata": {},
   "outputs": [
    {
     "name": "stdout",
     "output_type": "stream",
     "text": [
      "2\n"
     ]
    }
   ],
   "source": [
    "print(total)"
   ]
  },
  {
   "cell_type": "markdown",
   "id": "254a6136",
   "metadata": {},
   "source": [
    "...or by simply calling the variable's name (in a Notebook)\n",
    "\n",
    "Notice the lack of quotation marks!"
   ]
  },
  {
   "cell_type": "code",
   "execution_count": 40,
   "id": "86817c80",
   "metadata": {},
   "outputs": [
    {
     "data": {
      "text/plain": [
       "2"
      ]
     },
     "execution_count": 40,
     "metadata": {},
     "output_type": "execute_result"
    }
   ],
   "source": [
    "total"
   ]
  },
  {
   "cell_type": "markdown",
   "id": "293c544a",
   "metadata": {},
   "source": [
    "The arguments of `print()` do not have to be of the same type. Here, print is used to display some text and a value:"
   ]
  },
  {
   "cell_type": "code",
   "execution_count": 56,
   "id": "65110610",
   "metadata": {},
   "outputs": [
    {
     "name": "stdout",
     "output_type": "stream",
     "text": [
      "The total is 2\n"
     ]
    }
   ],
   "source": [
    "print('The total is', total)"
   ]
  },
  {
   "cell_type": "markdown",
   "id": "12b5a079",
   "metadata": {},
   "source": [
    "### 2.3 More on printing with variables"
   ]
  },
  {
   "cell_type": "markdown",
   "id": "b54628d4",
   "metadata": {},
   "source": [
    "Sometimes, the value of a variable is desired to be in the middle of a sentence, in which case there are several useful methods:"
   ]
  },
  {
   "cell_type": "code",
   "execution_count": 89,
   "id": "9004b19e",
   "metadata": {},
   "outputs": [
    {
     "name": "stdout",
     "output_type": "stream",
     "text": [
      "There are 2 beds left in this ICU\n",
      "There are 2 beds left in this ICU\n",
      "There are 2 beds left in this ICU\n",
      "There are 2 beds left in this ICU\n"
     ]
    }
   ],
   "source": [
    "print('There are', total, 'beds left in this ICU')\n",
    "print(f'There are {total} beds left in this ICU')\n",
    "print('There are {} beds left in this ICU'.format(total))\n",
    "print('There are %s beds left in this ICU' % total)"
   ]
  },
  {
   "cell_type": "markdown",
   "id": "40fe1796",
   "metadata": {},
   "source": [
    "### 2.4 Comments\n",
    "Comments in Python are started with a hashtag."
   ]
  },
  {
   "cell_type": "code",
   "execution_count": 57,
   "id": "3145f1b5",
   "metadata": {},
   "outputs": [],
   "source": [
    "# Everything after a hashtag is ignored\n",
    "# It's generally a good idea to comment your code\n",
    "# Don't over-comment, though\n",
    "# It's usually more important to get across what your code is trying to achieve, or why it's written in a certain way, rather than how it works"
   ]
  },
  {
   "cell_type": "markdown",
   "id": "8e64401b",
   "metadata": {},
   "source": [
    "### 2.5 Mathematical operators\n",
    "Python can be used for various mathematical operations"
   ]
  },
  {
   "cell_type": "code",
   "execution_count": 54,
   "id": "aac00e33",
   "metadata": {},
   "outputs": [
    {
     "name": "stdout",
     "output_type": "stream",
     "text": [
      "1 + 1 = 2\n",
      "1 - 1 = 0\n",
      "2 * 3 = 6\n",
      "2 ** 3 = 8\n",
      "2 / 3 = 0.6666666666666666\n",
      "7 // 3 = 2\n",
      "7 % 3 = 1\n"
     ]
    }
   ],
   "source": [
    "print('1 + 1 =', 1 + 1) # Addition\n",
    "print('1 - 1 =', 1 - 1) # Subtraction\n",
    "print('2 * 3 =', 2 * 3 ) # Multiplication\n",
    "print('2 ** 3 =', 2 ** 3) # Exponentiation\n",
    "print('2 / 3 =', 2 / 3) # Division\n",
    "print('7 // 3 =', 7 // 3) # Floor division\n",
    "print('7 % 3 =', 7 % 3) # Modulus"
   ]
  },
  {
   "cell_type": "markdown",
   "id": "bb99ebc6",
   "metadata": {},
   "source": [
    "### 2.6 Comparison operators\n",
    "These can be used to determine the relationship between two values. They output a Boolean value of `True` or `False`"
   ]
  },
  {
   "cell_type": "code",
   "execution_count": 52,
   "id": "2e7088db",
   "metadata": {},
   "outputs": [
    {
     "name": "stdout",
     "output_type": "stream",
     "text": [
      "Is 3 greater than 3? False\n",
      "Is 6 less than 5? False\n",
      "Is 1 equal to 1? True\n",
      "Is 1 not equal to 1? False\n",
      "Is 3 greater than or equal to 3? True\n",
      "Is 3 less than or equal to 4? True\n"
     ]
    }
   ],
   "source": [
    "print('Is 3 greater than 3?', 3 > 3)\n",
    "print('Is 6 less than 5?', 6 < 5)\n",
    "print('Is 1 equal to 1?', 1 == 1)\n",
    "print('Is 1 not equal to 1?', 1 != 1)\n",
    "print('Is 3 greater than or equal to 3?', 3 >= 3)\n",
    "print('Is 3 less than or equal to 4?', 3 <= 4)"
   ]
  },
  {
   "cell_type": "markdown",
   "id": "78e014c0",
   "metadata": {},
   "source": [
    "### 2.7 Other operators\n",
    "These are logical operators (`not`, `and`, `or`), identity operators (`is`, `is not`), membership operators (`in`, `not in`), bitwise operators such as `&` or `|` and augmented assignment operators like `+=` or `-=`.\n",
    "\n",
    "Operators can be chained to any degree and can result in complex logical statements. The example below outputs `False` because `'a' in 'car' == True`, thus negating it turns the entire statement into a `False` statement."
   ]
  },
  {
   "cell_type": "code",
   "execution_count": 83,
   "id": "168c36f6",
   "metadata": {},
   "outputs": [
    {
     "name": "stdout",
     "output_type": "stream",
     "text": [
      "False\n"
     ]
    }
   ],
   "source": [
    "print(3 > 2 and 4 < 6 and not 'a' in 'car')"
   ]
  },
  {
   "cell_type": "markdown",
   "id": "0a551d72",
   "metadata": {},
   "source": [
    "Be very careful with chaining logical statments! Brackets are an easy way to ensure that statements are evaluated in the order you expect."
   ]
  },
  {
   "cell_type": "markdown",
   "id": "94676579",
   "metadata": {},
   "source": [
    "### 2.8 Combining variables\n",
    "Variables can be used together to create new outputs. "
   ]
  },
  {
   "cell_type": "code",
   "execution_count": 59,
   "id": "5db2b9fd",
   "metadata": {},
   "outputs": [
    {
     "name": "stdout",
     "output_type": "stream",
     "text": [
      "1.5\n"
     ]
    }
   ],
   "source": [
    "a = 3\n",
    "b = 1 + 1\n",
    "c = a / b\n",
    "print(c) "
   ]
  },
  {
   "cell_type": "code",
   "execution_count": 60,
   "id": "fc6320b1",
   "metadata": {},
   "outputs": [
    {
     "name": "stdout",
     "output_type": "stream",
     "text": [
      "3 divided by 1 is 3.0\n"
     ]
    }
   ],
   "source": [
    "print(f'{a} divided by 1 is {a/1}') # Notice that division always returns a floating point number, regardless of divisibility"
   ]
  },
  {
   "cell_type": "markdown",
   "id": "7b784e1c",
   "metadata": {},
   "source": [
    "Some operations only work with certain data types. What happens when you try to add a *string* to an *int*? A *string* to a *string*? Can you multiply *strings* by *ints*?\n",
    "\n",
    "How you create a new cell largely depends on the method you used to open the Jupyter Notebook. In Spyder and VSCode, there is a '+' button at the top left of the page which inserts a cell below your currently selected cell. By default, newly created cells are code cells; this can be changed to markdown or 'Raw' (used mainly for coding in LaTeX or HTML)."
   ]
  },
  {
   "cell_type": "markdown",
   "id": "3d4aa098",
   "metadata": {},
   "source": [
    "### 2.9 Variable types\n",
    "\n",
    "We have already seen *strings* ('hello world'), *ints* (1, 0, -3) , *floats* (0.5, -1.2), and *booleans* (True, False).\n",
    "There are many other types of variables which you'll encounter at various points.\n",
    "\n",
    "A particularly important type is the *list*. \n",
    "\n",
    "**Lists** are ordered collections of other Python objects, which makes them 'compound variables'."
   ]
  },
  {
   "cell_type": "code",
   "execution_count": 110,
   "id": "fa80c8a9",
   "metadata": {},
   "outputs": [],
   "source": [
    "a_list = [1, 6, 9]     #this is a list containing the integer elements 1, 2, and 3\n",
    "b_list = [1, 6, '9']   #this list looks similar to the first one, but the third element here is defined as a string, not an int."
   ]
  },
  {
   "cell_type": "markdown",
   "id": "9e988d23",
   "metadata": {},
   "source": [
    "Any item in a list can be accessed through its index (in Python, indexing starts at 0). The last item in a list has index = -1."
   ]
  },
  {
   "cell_type": "code",
   "execution_count": 113,
   "id": "7d2c7a71",
   "metadata": {},
   "outputs": [
    {
     "name": "stdout",
     "output_type": "stream",
     "text": [
      "The first item in list a is 1\n",
      "The second item in list a is 6\n",
      "The last item in list b is 9\n"
     ]
    }
   ],
   "source": [
    "print('The first item in list a is', a_list[0])\n",
    "print('The second item in list a is', a_list[1])\n",
    "print('The last item in list b is', b_list[-1])"
   ]
  },
  {
   "cell_type": "markdown",
   "id": "2681a52e",
   "metadata": {},
   "source": [
    "Notice how the final output looks exactly the same as the others. This can trick you into thinking that '9' is, in fact, an integer. This shows that checking your results using `print()` can be misleading.\n",
    "\n",
    "The type of any object in Python can be returned through the `type()` function."
   ]
  },
  {
   "cell_type": "code",
   "execution_count": 114,
   "id": "89f4776e",
   "metadata": {},
   "outputs": [
    {
     "data": {
      "text/plain": [
       "str"
      ]
     },
     "execution_count": 114,
     "metadata": {},
     "output_type": "execute_result"
    }
   ],
   "source": [
    "type(b_list[-1])"
   ]
  },
  {
   "cell_type": "markdown",
   "id": "66a15690",
   "metadata": {},
   "source": [
    "### 2.9 Libraries\n",
    "\n",
    "Python can do many things out-of-the-box, but very clever and kind people have developed *libraries* (also known as modules or packages), which are simply reusable collections of code that can speed up your workflow. Anything an external library can do could technically be done 'by hand' in standard Python, but why reinvent the wheel?\n",
    "\n",
    "There are several ways to import libraries, for example the entire library can be loaded, or only a part of it. \n",
    "\n",
    "The *statistics* library, as its name suggests, contains [basic statistical functions](https://docs.python.org/3/library/statistics.html). "
   ]
  },
  {
   "cell_type": "code",
   "execution_count": 24,
   "id": "4f6a39e7",
   "metadata": {},
   "outputs": [
    {
     "data": {
      "text/plain": [
       "4.166666666666667"
      ]
     },
     "execution_count": 24,
     "metadata": {},
     "output_type": "execute_result"
    }
   ],
   "source": [
    "import statistics as sts # Loading the entire statistics library, under the alias 'sts'. Any functions from this library need to be prefixed with 'sts'\n",
    "sts.mean([3, 4, 5.5])"
   ]
  },
  {
   "cell_type": "code",
   "execution_count": 27,
   "id": "fdde88df",
   "metadata": {},
   "outputs": [
    {
     "data": {
      "text/plain": [
       "4.5"
      ]
     },
     "execution_count": 27,
     "metadata": {},
     "output_type": "execute_result"
    }
   ],
   "source": [
    "from statistics import median # Here, the 'median' function is imported directly, with no alias.\n",
    "median([3,4,5,6])"
   ]
  },
  {
   "cell_type": "markdown",
   "id": "07f114ba",
   "metadata": {},
   "source": [
    "**Note**: For best practices, **never** import an entire library without giving it an alias. Doing so might replace any user-defined objects with whatever is contained in the library."
   ]
  },
  {
   "cell_type": "code",
   "execution_count": 36,
   "id": "4ce0b9fb",
   "metadata": {},
   "outputs": [
    {
     "data": {
      "text/plain": [
       "3.14"
      ]
     },
     "execution_count": 36,
     "metadata": {},
     "output_type": "execute_result"
    }
   ],
   "source": [
    "pi = 3.14\n",
    "pi"
   ]
  },
  {
   "cell_type": "code",
   "execution_count": 39,
   "id": "c933a421",
   "metadata": {},
   "outputs": [],
   "source": [
    "from math import * # This line imports every single function, variable, or other object defined in the math module."
   ]
  },
  {
   "cell_type": "code",
   "execution_count": 38,
   "id": "ee2c536b",
   "metadata": {},
   "outputs": [
    {
     "data": {
      "text/plain": [
       "3.141592653589793"
      ]
     },
     "execution_count": 38,
     "metadata": {},
     "output_type": "execute_result"
    }
   ],
   "source": [
    "pi"
   ]
  },
  {
   "cell_type": "markdown",
   "id": "77bf4c21",
   "metadata": {},
   "source": [
    "The *math* module has its own pre-defined value for pi, which overwrites the user-defined value. If whatever process I'm running depends on the assumption that pi=3.14 exactly, this would lead to unexpected results. In a different scenario, if I needed to calculate the circumference of the known Universe to the width of a hydrogen atom, the number of decimal values in *math*'s pi is just not good enough!\n",
    "\n",
    "On a more serious note, overwriting of existing objects is not the only problem with the 'import *' method. It also reduces clarity of the code. \n",
    "\n",
    "If I have 20 libraries that are each imported using 'import *':\n",
    "- first of all I won't know whether any of their objects are being overwritten by any others. In this case, the actual order in which the libraries are imported has an effect on the code! 'pi' could have come from *math*, or *numpy*, *scipy*, or *sympy* to name a few. The value of 'pi' stored in the first three libraries is the same, but the one from 'sympy' is a symbolic representation of pi, used in symbolic math and is incompatible with 'regular' math.\n",
    "- The second problem is that I won't know what bits came from which library, if using a few related libraries! This can drastically reduce the readability of your code, especially if using rather complex functions. Where do you go to find a function's documentation if you don't know which library it's from?"
   ]
  },
  {
   "cell_type": "markdown",
   "id": "d20d48c1",
   "metadata": {},
   "source": [
    "---\n",
    "\n",
    "## 3. Jupyter dangers \n",
    "### 3.1 Running cells out of order\n",
    "Variables are stored across cells, and do not depend on cells' relative positions.\n",
    "\n",
    "In the example below, notice that the variable `danger` looks like it has a value *before* it was assigned.\n",
    "This is because the cells below were not run in the order that they appear in the document.\n",
    "\n",
    "If you attempt running the cell below first, it will throw an error, because the variable is only defined in the cell below it."
   ]
  },
  {
   "cell_type": "code",
   "execution_count": 5,
   "id": "b06e6803",
   "metadata": {},
   "outputs": [
    {
     "data": {
      "text/plain": [
       "4"
      ]
     },
     "execution_count": 5,
     "metadata": {},
     "output_type": "execute_result"
    }
   ],
   "source": [
    "danger"
   ]
  },
  {
   "cell_type": "code",
   "execution_count": 63,
   "id": "bd4b11f5",
   "metadata": {},
   "outputs": [],
   "source": [
    "danger = 3"
   ]
  },
  {
   "cell_type": "code",
   "execution_count": 3,
   "id": "9cb467a6",
   "metadata": {},
   "outputs": [
    {
     "data": {
      "text/plain": [
       "3"
      ]
     },
     "execution_count": 3,
     "metadata": {},
     "output_type": "execute_result"
    }
   ],
   "source": [
    "danger"
   ]
  },
  {
   "cell_type": "code",
   "execution_count": 4,
   "id": "dba765d2",
   "metadata": {},
   "outputs": [],
   "source": [
    "danger = 4"
   ]
  },
  {
   "cell_type": "code",
   "execution_count": 7,
   "id": "4216e251",
   "metadata": {},
   "outputs": [
    {
     "data": {
      "text/plain": [
       "3"
      ]
     },
     "execution_count": 7,
     "metadata": {},
     "output_type": "execute_result"
    }
   ],
   "source": [
    "danger"
   ]
  },
  {
   "cell_type": "markdown",
   "id": "40d1b448",
   "metadata": {},
   "source": [
    "In the original document, the cells above were run out of order, which means that the final value of `danger` was actually 3. For someone else who tries to run this notebook, execution will stop at the first cell with an error; while that can be confusing, it's one of the better outcomes for this sort of mistake. \n",
    "\n",
    "**This is one of the most dangerous things about working with Notebooks**. It's also a very common sight, because traditional debugging is not as accessible as in a regular Python file using an IDE. Data scientists end up using cells for testing and debugging and often forget to remove or rearrange those cells."
   ]
  },
  {
   "cell_type": "markdown",
   "id": "ed82a99f",
   "metadata": {},
   "source": [
    "### 3.2 Variables that self-reference\n",
    "\n",
    "Let's start with the previously defined `danger` variable. Its value is currently 3:"
   ]
  },
  {
   "cell_type": "code",
   "execution_count": 64,
   "id": "2642a53d",
   "metadata": {},
   "outputs": [
    {
     "data": {
      "text/plain": [
       "3"
      ]
     },
     "execution_count": 64,
     "metadata": {},
     "output_type": "execute_result"
    }
   ],
   "source": [
    "danger"
   ]
  },
  {
   "cell_type": "code",
   "execution_count": 70,
   "id": "c0f4e5e9",
   "metadata": {},
   "outputs": [],
   "source": [
    "danger = danger + 1"
   ]
  },
  {
   "cell_type": "markdown",
   "id": "99c9576d",
   "metadata": {},
   "source": [
    "Following the cell above, you'd naturally expect the value of `danger` to be 4 now. However, the output of the cell below shows 5, because the cell changing the value of `danger` was run twice."
   ]
  },
  {
   "cell_type": "code",
   "execution_count": 67,
   "id": "e618ac16",
   "metadata": {},
   "outputs": [
    {
     "data": {
      "text/plain": [
       "5"
      ]
     },
     "execution_count": 67,
     "metadata": {},
     "output_type": "execute_result"
    }
   ],
   "source": [
    "danger"
   ]
  },
  {
   "cell_type": "markdown",
   "id": "231bdd56",
   "metadata": {},
   "source": [
    "While this is a very contrived and easy to spot example, it can become a huge liability when working with complex data structures. Generally, try to avoid changing a variable's value outside of the cell where it is defined. A better practice is to pass its value to another variable:"
   ]
  },
  {
   "cell_type": "code",
   "execution_count": 68,
   "id": "ab6daf91",
   "metadata": {},
   "outputs": [],
   "source": [
    "safe = danger"
   ]
  },
  {
   "cell_type": "markdown",
   "id": "a914e396",
   "metadata": {},
   "source": [
    "Now, no matter how many times you run the cell modifying `danger`, `safe` stays the same:"
   ]
  },
  {
   "cell_type": "code",
   "execution_count": 74,
   "id": "05faf4db",
   "metadata": {},
   "outputs": [
    {
     "name": "stdout",
     "output_type": "stream",
     "text": [
      "Safe = 5, danger = 7\n"
     ]
    }
   ],
   "source": [
    "print(f'Safe = {safe}, danger = {danger}')"
   ]
  },
  {
   "cell_type": "markdown",
   "id": "05f41d6f",
   "metadata": {},
   "source": [
    "Unfortunately, there are also exceptions to this. The next section introduces the concept of 'mutability' which illustrates this point.\n",
    "\n",
    "---\n",
    "## 4. Intermediate concepts\n",
    "### 4.1 Mutable and immutable variables\n",
    "Let's start with an example. In the code cell below, `a` is defined as a *list* containing the numbers 3, 4, and 5. Then the variable `b` is defined as `a`, which should make any changes to `a` or `b` independent of each other. Watch what happens when the last element of `a` is removed using the `pop()` function:"
   ]
  },
  {
   "cell_type": "code",
   "execution_count": 75,
   "id": "7622dde2",
   "metadata": {},
   "outputs": [
    {
     "data": {
      "text/plain": [
       "[3, 4]"
      ]
     },
     "execution_count": 75,
     "metadata": {},
     "output_type": "execute_result"
    }
   ],
   "source": [
    "a = [3, 4, 5]\n",
    "b = a\n",
    "a.pop()\n",
    "b"
   ]
  },
  {
   "cell_type": "markdown",
   "id": "3434f601",
   "metadata": {},
   "source": [
    "Furthermore, when `pop()` is used on `b`, `a` is also changed"
   ]
  },
  {
   "cell_type": "code",
   "execution_count": 76,
   "id": "89dd4da0",
   "metadata": {},
   "outputs": [
    {
     "data": {
      "text/plain": [
       "[3]"
      ]
     },
     "execution_count": 76,
     "metadata": {},
     "output_type": "execute_result"
    }
   ],
   "source": [
    "b.pop()\n",
    "a"
   ]
  },
  {
   "cell_type": "markdown",
   "id": "907b7f56",
   "metadata": {},
   "source": [
    "This happens because *lists* in Python are mutable objects, meaning that their values can change. Numeric types, such as `int`, are immutable. When a variable is defined as `var = 3`, for example, `var` simply 'points' at the number 3, whose value cannot change. You cannot define 3 to be something else. Although `var` itself can be changed to point at a different number, or different object entirely, that has no bearing on the value of 3.\n",
    "\n",
    "Lists, on the other hand, can be modified, and any variable that points towards a list can be used to modify it. "
   ]
  },
  {
   "cell_type": "markdown",
   "id": "930dab0a",
   "metadata": {},
   "source": [
    "This knowledge will come in particularly handy when dealing with *pandas dataframes* on data science projects."
   ]
  },
  {
   "cell_type": "markdown",
   "id": "ee668a27",
   "metadata": {},
   "source": [
    "### 4.2 Flow control and indentation"
   ]
  },
  {
   "cell_type": "markdown",
   "id": "8703dfae",
   "metadata": {},
   "source": [
    "Python code is generally executed sequentially (line by line) from top to bottom. More often than not, however, we would like some pieces of code to be executed multiple times, while others should be ignored except in special cases. This is where the concept of flow control comes in. Flow here refers to the flow of the execution of the program.\n",
    "\n",
    "The various ways to control the flow of execution include: `if-elif-else` blocks, `try-except-finally` blocks, `while` loops, and `for` loops.\n",
    "\n",
    "`while` loops, as the name suggests, loop a block of code until a stopping condition is achieved. If a stopping condition is not well defined, these can very easily turn into infinite loops. For this reason, they are often discouraged.\n",
    "\n",
    "`for` loops iterate over all the items in a given sequence, in the order that they are in. Because most sequences are finite, it is much harder to create an infinite `for` loop (though still possible!).\n",
    "\n",
    "`if` blocks are only run once (unless nested in a loop). The `elif` and `else` parts are optional. \n",
    "\n",
    "**Note** that conditional code that is meant to run in loops or blocks is indented with a *tab* or, the most common alternative, 4 *spaces*. Indented code makes it clear to Python that only that code should run if the condition is successful. A return to non-indented code signals an exit from that conditional.\n",
    "\n",
    "It's easiest to explain using an example, so see below:"
   ]
  },
  {
   "cell_type": "code",
   "execution_count": 97,
   "id": "65d3d589",
   "metadata": {},
   "outputs": [
    {
     "name": "stdout",
     "output_type": "stream",
     "text": [
      "Negative numbers are not allowed\n",
      "You have lost\n"
     ]
    }
   ],
   "source": [
    "a = -2\n",
    "lives = 1\n",
    "\n",
    "if a > 5:                                                   # First, the 'if' statement checks whether a condition is fulfilled (a>5 here)\n",
    "    print(\"That's a big number\")                            # If the condition is fulfilled, then this code is executed\n",
    "elif a == 5:                                                # Otherwise, the program checks the first 'elif' statement (short for else if)\n",
    "    print(\"Your number is a little too high\")               # If the condition is met, this code is executed\n",
    "elif a == 0:                                                # You can have as many 'elif' statements as you'd like\n",
    "    print('Your number is zero')\n",
    "    print('It needs to be a positive number')\n",
    "elif a < 0:                                                 # But having too many of them is usually a sign that a different method might be better\n",
    "    print(\"Negative numbers are not allowed\")\n",
    "    lives = lives - 1                                        # All indented code under the 'elif' is executed\n",
    "    if lives == 0:                                          # Including more if statements. Careful! Excessive nesting is also a bad sign\n",
    "        print(\"You have lost\")                              \n",
    "else:                                                       # Finally, if none of the other conditions are fulfilled, 'else' is a catch-all\n",
    "    print(\"Hurray, your number is between 0 and 5\")"
   ]
  },
  {
   "cell_type": "code",
   "execution_count": 115,
   "id": "60c961d3",
   "metadata": {},
   "outputs": [
    {
     "name": "stdout",
     "output_type": "stream",
     "text": [
      "0\n",
      "1\n",
      "2\n",
      "3\n",
      "4\n",
      "5\n"
     ]
    }
   ],
   "source": [
    "for i in [0,1,2,3,4,5]:          #using the list [0,1,2,3,4,5] to iterate over. Alternatively, could use range(6).\n",
    "    print(i)"
   ]
  },
  {
   "cell_type": "code",
   "execution_count": 116,
   "id": "11aa1f10",
   "metadata": {},
   "outputs": [
    {
     "name": "stdout",
     "output_type": "stream",
     "text": [
      "0\n",
      "1\n",
      "2\n",
      "3\n",
      "4\n",
      "5\n"
     ]
    }
   ],
   "source": [
    "i = 0\n",
    "while i < 6:\n",
    "    print(i)\n",
    "    i += 1"
   ]
  },
  {
   "cell_type": "markdown",
   "id": "7d3b37ac",
   "metadata": {},
   "source": [
    "### 4.3 Functions\n",
    "We've already used some built-in functions, like `print()` or `type()`, but custom functions can also be created. This is usually done to make code more concise, easier to change, and easier to document.\n",
    "\n",
    "Let's tackle ease of change. You may need certain blocks of code to be used several times, perhaps with different inputs."
   ]
  },
  {
   "cell_type": "markdown",
   "id": "ac19927d",
   "metadata": {},
   "source": [
    "**Example**: Automatic tasks depending on the day of the week\n",
    "\n",
    "Say you wish to write a message every day, depending on what day of the week it is. This message could be for yourself, as a sort of reminder written to a .txt file, or it could be an automatic email sent to certain people in Outlook, using the [pyOutlook](https://pyoutlook.readthedocs.io/en/latest/index.html) library (Note: This is **not** a suggestion to sent automatic emails out to colleagues every morning!).\n",
    "\n",
    "Perhaps you'd like to download a list of your upcoming meetings for the week on Mondays and compile timesheets based on calendar entries for the past week on Fridays (as shown [in this article](https://ajabbitt.medium.com/automating-outlook-calendar-downloads-with-python-5fb3671b56a)). Maybe even calculate [statistics for time spent in meetings](https://pythoninoffice.com/get-outlook-calendar-meeting-data-using-python/)."
   ]
  },
  {
   "cell_type": "code",
   "execution_count": 3,
   "id": "06ffb6dd",
   "metadata": {},
   "outputs": [],
   "source": [
    "# Only run if Monday\n",
    "message = \"Good morning dear colleagues! I got a bad case of the Mondays!\"\n",
    "print(message)\n",
    "upcoming = '' # Code for getting upcoming meetings\n",
    "\n",
    "# Only run if Tuesday\n",
    "message = 'Good morning dear colleagues! Today is a lovely Tuesday!'\n",
    "print(message)\n",
    "\n",
    "# Only run if Friday\n",
    "message = 'Good morning dear colleagues! Cannot wait for the weekend!'\n",
    "print(message)\n",
    "timesheets = '' # Code for getting meetings of past week\n",
    "statistics = '' # Code for calculating statistics\n"
   ]
  },
  {
   "cell_type": "markdown",
   "id": "cb08d590",
   "metadata": {},
   "source": [
    "In most Jupyter Notebook configurations, you cannot run part of a cell, so the cell would have to be split or the individual bits of code would have to be joined using if-else statements. This works 'ok', and there are other improvements that can be made, like saving the 'good morning' part of the message separately (which makes it easy to modify for all days at the same time). But what if you want to stop sending the message altogether? That would need to be added as another condition, and this code just gets bigger and bigger."
   ]
  },
  {
   "cell_type": "markdown",
   "id": "8fdf82e1",
   "metadata": {},
   "source": [
    "In this example, a function containing arguments to determine which day of the week it is would be more concise and easier to change. As a bonus, you can add another parameter that can decide whether the messsage should be sent or not.\n",
    "\n",
    "**Note** that just like for flow control statements, indentation shows what code is meant to be part of the function. Any non-indented code following the function definition will be considered outside of the function."
   ]
  },
  {
   "cell_type": "code",
   "execution_count": 12,
   "id": "0f657388",
   "metadata": {},
   "outputs": [
    {
     "name": "stdout",
     "output_type": "stream",
     "text": [
      "Good morning dear colleagues! Cannot wait for the weekend!\n"
     ]
    }
   ],
   "source": [
    "def automated_tasks(dotw='Monday', send_message=True): \n",
    "    # The parameters dotw and send_message are given default values. These values can be changed when calling the function manually, as seen at the end\n",
    "    if dotw == 'Monday':\n",
    "        message = 'I got a bad case of the Mondays!'\n",
    "        upcoming = '' # Code for getting upcoming meetings\n",
    "    elif dotw == 'Tuesday':\n",
    "        message = 'Today is a lovely Tuesday!'\n",
    "    elif dotw == 'Friday':\n",
    "        message = 'Cannot wait for the weekend!'\n",
    "        timesheets = '' # Code for getting meetings of past week\n",
    "        statistics = '' # Code for calculating statistics\n",
    "    if send_message==True:\n",
    "        print(\"Good morning dear colleagues!\", message)\n",
    "    \n",
    "automated_tasks(dotw='Friday', send_message=True)"
   ]
  },
  {
   "cell_type": "markdown",
   "id": "30f32d74",
   "metadata": {},
   "source": [
    "This is similar to 'hard-coding' a formula cell in Excel versus using cell references, which make it a lot easier to modify the behaviour of your calculations."
   ]
  },
  {
   "cell_type": "markdown",
   "id": "d852a1c2",
   "metadata": {},
   "source": [
    "Even better, we can automate even the input of the day of the week, by importing the `datetime` library and calling `datetime.datetime.today().strftime('%A')`"
   ]
  },
  {
   "cell_type": "code",
   "execution_count": 46,
   "id": "5cf0149c",
   "metadata": {},
   "outputs": [
    {
     "name": "stdout",
     "output_type": "stream",
     "text": [
      "Thursday\n"
     ]
    }
   ],
   "source": [
    "import datetime\n",
    "today = datetime.datetime.today().strftime('%A')\n",
    "print(today)"
   ]
  },
  {
   "cell_type": "markdown",
   "id": "03410998",
   "metadata": {},
   "source": [
    "Another use-case for functions is when you need a certain output which can be obtained after a number of steps, but the intermediary values are not useful. That's because functions are self-contained. Any variables defined within the scope of a function are not accessible outside of the function, unless specifically *returned* by the function. When *return* is used, calling the function returns a value. This value can be assigned to a variable or printed. **Note** that function execution stops immediately after reaching the *return* statement. Only use it when you wish the function to exit.\n",
    "\n",
    "See below for a very inefficient manual calculation of the greatest common divisor of two numbers:"
   ]
  },
  {
   "cell_type": "code",
   "execution_count": 55,
   "id": "640414e1",
   "metadata": {},
   "outputs": [
    {
     "data": {
      "text/plain": [
       "5"
      ]
     },
     "execution_count": 55,
     "metadata": {},
     "output_type": "execute_result"
    }
   ],
   "source": [
    "def complicated_calc(numb1, numb2):\n",
    "    numb1_divisors = [i for i in range(1,numb1+1) if numb1 % i == 0]\n",
    "    numb2_divisors = [i for i in range(1,numb2+1) if numb2 % i == 0]\n",
    "    common_divisors = [i for i in numb1_divisors if i in numb2_divisors]\n",
    "    gcd = max(common_divisors)\n",
    "    return gcd\n",
    "\n",
    "complicated_calc(15,20)"
   ]
  },
  {
   "cell_type": "markdown",
   "id": "3904a745",
   "metadata": {},
   "source": [
    "The only value we're interested in here is the gcd itself; the lists of divisors and the list of common divisors are superfluous and do not need to be returned."
   ]
  },
  {
   "cell_type": "markdown",
   "id": "d0a57534",
   "metadata": {},
   "source": [
    "## 5. Conclusion\n",
    "Congratulations on reaching the end! \n",
    "\n",
    "While this tutorial has barely scratched the surface of what Python can do, hopefully it has given you enough of a basis to start looking out for other, more specific resources.\n",
    "Here are some links to get started with:\n",
    "\n",
    "Constantly updating lists of open source libraries: [one](https://github.com/ml-tooling/best-of-ml-python) and [two](https://github.com/josephmisiti/awesome-machine-learning#python)\n",
    "\n",
    "This [subreddit](https://www.reddit.com/r/learnpython) and [post](https://www.reddit.com/r/learnpython/comments/gk517f/data_analysis_resources_for_python/) specifically.\n",
    "\n",
    "[Tons](https://jakevdp.github.io/PythonDataScienceHandbook/) of [free](http://neuralnetworksanddeeplearning.com/) [books](https://greenteapress.com/wp/think-bayes/) (search for 'free python data science books' for more)\n",
    "\n",
    "\n",
    "The next Notebook in this series is aimed at dataframes. <link See you there!"
   ]
  },
  {
   "cell_type": "code",
   "execution_count": null,
   "id": "18c9c3bb",
   "metadata": {},
   "outputs": [],
   "source": []
  }
 ],
 "metadata": {
  "kernelspec": {
   "display_name": "Python 3 (Spyder)",
   "language": "python3",
   "name": "python3"
  },
  "language_info": {
   "codemirror_mode": {
    "name": "ipython",
    "version": 3
   },
   "file_extension": ".py",
   "mimetype": "text/x-python",
   "name": "python",
   "nbconvert_exporter": "python",
   "pygments_lexer": "ipython3",
   "version": "3.8.12"
  }
 },
 "nbformat": 4,
 "nbformat_minor": 5
}
